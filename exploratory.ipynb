{
 "cells": [
  {
   "cell_type": "code",
   "execution_count": 2,
   "metadata": {},
   "outputs": [],
   "source": [
    "import pandas as pd \n",
    "import numpy as np\n",
    "\n",
    "import os\n",
    "\n",
    "import matplotlib.pyplot as plt"
   ]
  },
  {
   "cell_type": "code",
   "execution_count": 3,
   "metadata": {},
   "outputs": [],
   "source": [
    "games_data = pd.read_csv(os.path.join('data', 'games.csv'))\n",
    "player_data = pd.read_csv(os.path.join('data', 'players.csv'))\n",
    "plays_data = pd.read_csv(os.path.join('data', 'plays.csv'))\n",
    "tackles_data = pd.read_csv(os.path.join('data', 'tackles.csv'))"
   ]
  },
  {
   "cell_type": "markdown",
   "metadata": {},
   "source": [
    "# Calculating Football Distances"
   ]
  },
  {
   "cell_type": "markdown",
   "metadata": {},
   "source": [
    "## Adding Football Distances to Data\n",
    "\n",
    "Calculates the distance from the football for each player at each frame, this is \n",
    "done for each week.\n",
    "\n",
    "The data is saved in the edited_data directory.\n",
    "\n",
    "Below is an example of how the distance is calculated. Below this we edit all of the data\n",
    "to add store it in the edited_data directory."
   ]
  },
  {
   "cell_type": "code",
   "execution_count": 4,
   "metadata": {},
   "outputs": [],
   "source": [
    "# editing the data to give the football an id\n",
    "week1_data = pd.read_csv(os.path.join('data', 'tracking_week_1.csv'))\n",
    "\n",
    "week1_data['nflId'] = week1_data['nflId'].fillna(0).astype(int)\n",
    "\n",
    "# finding the football for each frame and storing it as its own dataframe\n",
    "football_data = week1_data[week1_data['displayName'] == 'football'][['gameId', 'playId', 'frameId', 'x', 'y']]\n",
    "football_data.columns = ['gameId', 'playId', 'frameId', 'football_x', 'football_y']\n",
    "\n",
    "# merge the football data with the week1 data\n",
    "week1_data = pd.merge(week1_data, football_data, on=['gameId', 'playId', 'frameId'], how='left')\n",
    "\n",
    "# calculate the distance between each player and the football\n",
    "week1_data['fb_distance'] = np.sqrt((week1_data['x'] - week1_data['football_x'])**2 + (week1_data['y'] - week1_data['football_y'])**2)\n",
    "week1_data.drop(['football_x', 'football_y'], axis=1, inplace=True) # drop the football x and y columns"
   ]
  },
  {
   "cell_type": "markdown",
   "metadata": {},
   "source": [
    "### Editing the Weekly Data"
   ]
  },
  {
   "cell_type": "code",
   "execution_count": 41,
   "metadata": {},
   "outputs": [],
   "source": [
    "data_directory = os.listdir('data')\n",
    "data_directory = [filename for filename in data_directory if 'tracking' in filename]\n",
    "\n",
    "# iterate through each filename in the data directory\n",
    "for filename in data_directory:\n",
    "    week_data = pd.read_csv(os.path.join('data', filename))\n",
    "    week_data['nflId'] = week_data['nflId'].fillna(0).astype(int)\n",
    "\n",
    "    # finding the football for each frame and storing it as its own dataframe\n",
    "    football_data = week_data[week_data['displayName'] == 'football'][['gameId', 'playId', 'frameId', 'x', 'y']]\n",
    "    football_data.columns = ['gameId', 'playId', 'frameId', 'football_x', 'football_y']\n",
    "\n",
    "    # merge the football data with the week1 data\n",
    "    week_data = pd.merge(week_data, football_data, on=['gameId', 'playId', 'frameId'], how='left')\n",
    "\n",
    "    # calculate the distance between each player and the football\n",
    "    week_data['fb_distance'] = np.sqrt((week_data['x'] - week_data['football_x'])**2 + (week_data['y'] - week_data['football_y'])**2)\n",
    "    week_data.drop(['football_x', 'football_y'], axis=1, inplace=True) # drop the football x and y columns\n",
    "\n",
    "    # write the data to the edited data directory\n",
    "    week_data.to_csv(os.path.join('edited_data', filename), index=False)\n",
    "\n",
    "# as a note for the future\n",
    "## theres abouta 3 yard difference between where the ball is \n",
    "## and where players are.\n"
   ]
  },
  {
   "cell_type": "code",
   "execution_count": 6,
   "metadata": {},
   "outputs": [],
   "source": [
    "# if a player gets an assist there will not be a tackle\n",
    "# for any player on that team, so you can say\n",
    "# any tackle is a solo tackle"
   ]
  },
  {
   "cell_type": "code",
   "execution_count": 7,
   "metadata": {},
   "outputs": [
    {
     "data": {
      "image/png": "[encoded data removed]",
      "text/plain": [
       "<Figure size 640x480 with 2 Axes>"
      ]
     },
     "metadata": {},
     "output_type": "display_data"
    }
   ],
   "source": [
    "# we should probably add something that takes the data as it is and plots it \n",
    "# as it would be on the football field\n",
    "## this means the x should be the same way that the football yardage is\n",
    "### this brings up the question do we train with relative coordinates \n",
    "### or do we train with absolute coordinates\n",
    "\n",
    "## \n",
    "\n",
    "play_one = week1_data[(football_week1['gameId'] == unique_plays_list[0][0]) & (football_week1['playId'] == unique_plays_list[0][1])]\n",
    "\n",
    "x = play_one['x']\n",
    "y = play_one['y']\n",
    "frame_id = play_one['frameId']\n",
    "\n",
    "plt.scatter(x, y, c=frame_id, cmap='viridis')\n",
    "plt.xlim(0, 120)\n",
    "plt.ylim(0, 53.3)\n",
    "plt.colorbar()\n",
    "plt.show()"
   ]
  },
  {
   "cell_type": "markdown",
   "metadata": {},
   "source": [
    "# Calculating Tackle Net Force"
   ]
  },
  {
   "cell_type": "code",
   "execution_count": 8,
   "metadata": {},
   "outputs": [],
   "source": [
    "# this doesn't work but this method is faster than what i will do\n",
    "\n",
    "def calc_fb_distance(data):\n",
    "    data['football_x'] = data.groupby(['gameId', 'playId', 'frameId']).apply(\n",
    "        lambda group: group.loc[group['displayName'] == 'football', 'x']\n",
    "    ).reset_index(drop=True) \n",
    "    \n",
    "    data['football_y'] = data.groupby(['gameId', 'playId', 'frameId']).apply(\n",
    "        lambda group: group.loc[group['displayName'] == 'football', 'y']\n",
    "    ).reset_index(drop=True)  \n",
    "\n",
    "    data['fb_distance'] = data.groupby(['gameId', 'playId', 'frameId']).apply(\n",
    "        lambda group: np.sqrt((group['x'] - group['football_x'])**2 + (group['y'] - group['football_y'])**2)\n",
    "    ).reset_index(drop=True)\n",
    "\n",
    "    return data\n"
   ]
  },
  {
   "cell_type": "code",
   "execution_count": null,
   "metadata": {},
   "outputs": [],
   "source": []
  }
 ],
 "metadata": {
  "kernelspec": {
   "display_name": "Python 3",
   "language": "python",
   "name": "python3"
  },
  "language_info": {
   "codemirror_mode": {
    "name": "ipython",
    "version": 3
   },
   "file_extension": ".py",
   "mimetype": "text/x-python",
   "name": "python",
   "nbconvert_exporter": "python",
   "pygments_lexer": "ipython3",
   "version": "3.10.11"
  }
 },
 "nbformat": 4,
 "nbformat_minor": 2
}
