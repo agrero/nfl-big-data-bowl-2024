{
 "cells": [
  {
   "cell_type": "code",
   "execution_count": 1,
   "metadata": {},
   "outputs": [],
   "source": [
    "import pandas as pd \n",
    "import numpy as np\n",
    "\n",
    "import os\n",
    "\n",
    "import matplotlib.pyplot as plt\n",
    "import plotly.graph_objects as go"
   ]
  },
  {
   "cell_type": "code",
   "execution_count": 2,
   "metadata": {},
   "outputs": [],
   "source": [
    "games_data = pd.read_csv(os.path.join('data', 'games.csv'))\n",
    "player_data = pd.read_csv(os.path.join('data', 'players.csv'))\n",
    "plays_data = pd.read_csv(os.path.join('data', 'plays.csv'))\n",
    "tackles_data = pd.read_csv(os.path.join('data', 'tackles.csv'))"
   ]
  },
  {
   "cell_type": "markdown",
   "metadata": {},
   "source": [
    "# Calculating Football Distances"
   ]
  },
  {
   "cell_type": "markdown",
   "metadata": {},
   "source": [
    "## Adding Football Distances to Data\n",
    "\n",
    "Calculates the distance from the football for each player at each frame, this is \n",
    "done for each week.\n",
    "\n",
    "The data is saved in the edited_data directory.\n",
    "\n",
    "Below is an example of how the distance is calculated. Below this we edit all of the data\n",
    "to add store it in the edited_data directory."
   ]
  },
  {
   "cell_type": "code",
   "execution_count": 3,
   "metadata": {},
   "outputs": [],
   "source": [
    "# editing the data to give the football an id\n",
    "week1_data = pd.read_csv(os.path.join('data', 'tracking_week_1.csv'))\n",
    "\n",
    "week1_data['nflId'] = week1_data['nflId'].fillna(0).astype(int)\n",
    "\n",
    "# finding the football for each frame and storing it as its own dataframe\n",
    "football_data = week1_data[week1_data['displayName'] == 'football'][['gameId', 'playId', 'frameId', 'x', 'y']]\n",
    "football_data.columns = ['gameId', 'playId', 'frameId', 'football_x', 'football_y']\n",
    "\n",
    "# merge the football data with the week1 data\n",
    "week1_data = pd.merge(week1_data, football_data, on=['gameId', 'playId', 'frameId'], how='left')\n",
    "\n",
    "# calculate the distance between each player and the football\n",
    "week1_data['fb_distance'] = np.sqrt((week1_data['x'] - week1_data['football_x'])**2 + (week1_data['y'] - week1_data['football_y'])**2)\n",
    "week1_data.drop(['football_x', 'football_y'], axis=1, inplace=True) # drop the football x and y columns"
   ]
  },
  {
   "cell_type": "markdown",
   "metadata": {},
   "source": [
    "### Editing the Weekly Data"
   ]
  },
  {
   "cell_type": "code",
   "execution_count": 4,
   "metadata": {},
   "outputs": [],
   "source": [
    "data_directory = os.listdir('data')\n",
    "data_directory = [filename for filename in data_directory if 'tracking' in filename]\n",
    "\n",
    "edit_data = False\n",
    "if edit_data:\n",
    "    # iterate through each filename in the data directory\n",
    "    for filename in data_directory:\n",
    "        week_data = pd.read_csv(os.path.join('data', filename))\n",
    "        week_data['nflId'] = week_data['nflId'].fillna(0).astype(int)\n",
    "\n",
    "        # finding the football for each frame and storing it as its own dataframe\n",
    "        football_data = week_data[week_data['displayName'] == 'football'][['gameId', 'playId', 'frameId', 'x', 'y']]\n",
    "        football_data.columns = ['gameId', 'playId', 'frameId', 'football_x', 'football_y']\n",
    "\n",
    "        # merge the football data with the week1 data\n",
    "        week_data = pd.merge(week_data, football_data, on=['gameId', 'playId', 'frameId'], how='left')\n",
    "\n",
    "        # calculate the distance between each player and the football\n",
    "        week_data['fb_distance'] = np.sqrt((week_data['x'] - week_data['football_x'])**2 + (week_data['y'] - week_data['football_y'])**2)\n",
    "        week_data.drop(['football_x', 'football_y'], axis=1, inplace=True) # drop the football x and y columns\n",
    "\n",
    "        # write the data to the edited data directory\n",
    "        week_data.to_csv(os.path.join('edited_data', filename), index=False)\n",
    "\n",
    "# as a note for the future\n",
    "## theres abouta 3 yard difference between where the ball is \n",
    "## and where players are."
   ]
  },
  {
   "cell_type": "markdown",
   "metadata": {},
   "source": [
    "### Joining all the Weeks Data\n",
    "\n",
    "Join all the weeks data vertically to allow for paralelized computation"
   ]
  },
  {
   "cell_type": "code",
   "execution_count": 5,
   "metadata": {},
   "outputs": [],
   "source": [
    "edited_data_directory = os.listdir('edited_data')\n",
    "\n",
    "write_total_data = False\n",
    "if write_total_data:\n",
    "        \n",
    "    total_data = pd.DataFrame()\n",
    "    # iterate through each filename in the data directory\n",
    "    for week, filename in enumerate(edited_data_directory):\n",
    "        week_data = pd.read_csv(os.path.join('edited_data', filename))\n",
    "        week_data['week'] = week + 1\n",
    "        total_data = pd.concat([total_data, week_data], ignore_index=True)\n",
    "\n",
    "    total_data.to_csv(os.path.join('edited_data', 'total_data.csv'), index=False)\n",
    "else:\n",
    "    total_data = pd.read_csv(os.path.join('edited_data', 'total_data.csv'))"
   ]
  },
  {
   "cell_type": "code",
   "execution_count": 10,
   "metadata": {},
   "outputs": [
    {
     "data": {
      "application/vnd.plotly.v1+json": {
       "config": {
        "plotlyServerURL": "https://plot.ly"
       },
       "data": [
        {
         "mode": "lines",
         "name": "Rodger Saffold",
         "type": "scatter",
         "x": [
          88.37,
          88.47,
          88.56,
          88.64,
          88.72,
          88.8,
          88.87,
          88.91,
          88.94,
          88.95,
          88.92,
          88.9,
          88.84,
          88.75,
          88.65,
          88.53,
          88.39,
          88.23,
          88.09,
          87.93,
          87.77,
          87.61
         ],
         "y": [
          27.27,
          27.13,
          27.01,
          26.9,
          26.8,
          26.7,
          26.64,
          26.59,
          26.57,
          26.58,
          26.6,
          26.63,
          26.68,
          26.74,
          26.82,
          26.91,
          27,
          27.09,
          27.19,
          27.28,
          27.37,
          27.45
         ]
        },
        {
         "mode": "lines",
         "name": "Bobby Wagner",
         "type": "scatter",
         "x": [
          78.25,
          78.2,
          78.16,
          78.14,
          78.12,
          78.11,
          78.1,
          78.1,
          78.11,
          78.12,
          78.15,
          78.18,
          78.22,
          78.28,
          78.36,
          78.44,
          78.53,
          78.62,
          78.73,
          78.84,
          78.94,
          79.02
         ],
         "y": [
          27.53,
          27.69,
          27.88,
          28.13,
          28.42,
          28.74,
          29.08,
          29.44,
          29.8,
          30.16,
          30.52,
          30.85,
          31.18,
          31.47,
          31.73,
          31.96,
          32.15,
          32.31,
          32.44,
          32.53,
          32.59,
          32.62
         ]
        },
        {
         "mode": "lines",
         "name": "Aaron Donald",
         "type": "scatter",
         "x": [
          91.08,
          91.36,
          91.62,
          91.83,
          92.01,
          92.15,
          92.26,
          92.33,
          92.35,
          92.32,
          92.26,
          92.16,
          92.03,
          91.88,
          91.7,
          91.47,
          91.26,
          91.04,
          90.82,
          90.58,
          90.34,
          90.09
         ],
         "y": [
          31.61,
          31.32,
          30.98,
          30.65,
          30.3,
          29.96,
          29.63,
          29.31,
          29.02,
          28.74,
          28.49,
          28.28,
          28.08,
          27.94,
          27.82,
          27.74,
          27.68,
          27.66,
          27.66,
          27.68,
          27.72,
          27.78
         ]
        },
        {
         "mode": "lines",
         "name": "Mitch Morse",
         "type": "scatter",
         "x": [
          88.25,
          88.26,
          88.27,
          88.26,
          88.24,
          88.21,
          88.18,
          88.14,
          88.08,
          88.02,
          87.95,
          87.87,
          87.79,
          87.69,
          87.58,
          87.46,
          87.34,
          87.2,
          87.07,
          86.94,
          86.8,
          86.67
         ],
         "y": [
          28.74,
          28.82,
          28.92,
          29.04,
          29.17,
          29.31,
          29.45,
          29.59,
          29.72,
          29.87,
          30.03,
          30.17,
          30.3,
          30.44,
          30.56,
          30.68,
          30.8,
          30.91,
          31.01,
          31.11,
          31.2,
          31.26
         ]
        },
        {
         "mode": "lines",
         "name": "Stefon Diggs",
         "type": "scatter",
         "x": [
          80.6,
          80.48,
          80.34,
          80.19,
          80.01,
          79.85,
          79.69,
          79.54,
          79.41,
          79.31,
          79.23,
          79.18,
          79.16,
          79.16,
          79.19,
          79.23,
          79.27,
          79.33,
          79.39,
          79.44,
          79.5,
          79.51
         ],
         "y": [
          38.29,
          37.68,
          37.09,
          36.53,
          36,
          35.59,
          35.2,
          34.88,
          34.61,
          34.4,
          34.23,
          34.09,
          33.99,
          33.92,
          33.87,
          33.85,
          33.84,
          33.85,
          33.87,
          33.88,
          33.91,
          33.92
         ]
        },
        {
         "mode": "lines",
         "name": "Troy Hill",
         "type": "scatter",
         "x": [
          72.34,
          71.93,
          71.55,
          71.2,
          70.9,
          70.62,
          70.41,
          70.22,
          70.05,
          69.91,
          69.8,
          69.7,
          69.63,
          69.56,
          69.51,
          69.46,
          69.42,
          69.38,
          69.36,
          69.34,
          69.33,
          69.32
         ],
         "y": [
          7.81,
          7.73,
          7.67,
          7.63,
          7.63,
          7.66,
          7.74,
          7.86,
          8.01,
          8.19,
          8.4,
          8.64,
          8.9,
          9.17,
          9.46,
          9.75,
          10.04,
          10.33,
          10.62,
          10.89,
          11.15,
          11.4
         ]
        },
        {
         "mode": "lines",
         "name": "Jalen Ramsey",
         "type": "scatter",
         "x": [
          77.95,
          78.02,
          78.06,
          78.1,
          78.13,
          78.15,
          78.17,
          78.18,
          78.19,
          78.2,
          78.22,
          78.25,
          78.29,
          78.35,
          78.41,
          78.49,
          78.57,
          78.66,
          78.74,
          78.8,
          78.86,
          78.91
         ],
         "y": [
          40.78,
          40.21,
          39.63,
          39.03,
          38.44,
          37.85,
          37.28,
          36.74,
          36.24,
          35.78,
          35.37,
          35.01,
          34.7,
          34.45,
          34.24,
          34.08,
          33.96,
          33.87,
          33.82,
          33.79,
          33.78,
          33.78
         ]
        },
        {
         "mode": "lines",
         "name": "Leonard Floyd",
         "type": "scatter",
         "x": [
          91.99,
          92.1,
          92.15,
          92.17,
          92.15,
          92.11,
          92.05,
          91.97,
          91.89,
          91.78,
          91.68,
          91.56,
          91.45,
          91.34,
          91.24,
          91.14,
          91.03,
          90.93,
          90.82,
          90.71,
          90.58,
          90.45
         ],
         "y": [
          33.78,
          33.65,
          33.52,
          33.39,
          33.26,
          33.14,
          33.02,
          32.9,
          32.78,
          32.67,
          32.55,
          32.45,
          32.34,
          32.24,
          32.14,
          32.05,
          31.96,
          31.87,
          31.78,
          31.7,
          31.62,
          31.56
         ]
        },
        {
         "mode": "lines",
         "name": "A'Shawn Robinson",
         "type": "scatter",
         "x": [
          88.51,
          88.56,
          88.57,
          88.55,
          88.5,
          88.41,
          88.32,
          88.21,
          88.08,
          87.93,
          87.78,
          87.62,
          87.45,
          87.27,
          87.09,
          86.92,
          86.75,
          86.57,
          86.4,
          86.24,
          86.08,
          85.93
         ],
         "y": [
          25.47,
          25.54,
          25.59,
          25.63,
          25.65,
          25.65,
          25.64,
          25.62,
          25.58,
          25.54,
          25.48,
          25.44,
          25.39,
          25.35,
          25.33,
          25.32,
          25.32,
          25.33,
          25.35,
          25.4,
          25.44,
          25.48
         ]
        },
        {
         "mode": "lines",
         "name": "Dion Dawkins",
         "type": "scatter",
         "x": [
          89.42,
          89.57,
          89.69,
          89.78,
          89.83,
          89.87,
          89.88,
          89.86,
          89.83,
          89.78,
          89.73,
          89.68,
          89.63,
          89.56,
          89.48,
          89.4,
          89.32,
          89.23,
          89.13,
          89.03,
          88.92,
          88.8
         ],
         "y": [
          25.81,
          25.88,
          25.96,
          26.04,
          26.11,
          26.18,
          26.25,
          26.3,
          26.36,
          26.42,
          26.47,
          26.53,
          26.58,
          26.63,
          26.67,
          26.72,
          26.75,
          26.79,
          26.82,
          26.85,
          26.88,
          26.91
         ]
        },
        {
         "mode": "lines",
         "name": "Isaiah McKenzie",
         "type": "scatter",
         "x": [
          76.7,
          76.35,
          76.07,
          75.85,
          75.69,
          75.58,
          75.52,
          75.49,
          75.49,
          75.52,
          75.55,
          75.6,
          75.65,
          75.7,
          75.75,
          75.8,
          75.85,
          75.91,
          75.97,
          76.03,
          76.11,
          76.2
         ],
         "y": [
          18.39,
          18.07,
          17.7,
          17.29,
          16.84,
          16.36,
          15.85,
          15.33,
          14.81,
          14.29,
          13.79,
          13.31,
          12.85,
          12.42,
          12.01,
          11.64,
          11.3,
          10.99,
          10.7,
          10.45,
          10.22,
          10.02
         ]
        },
        {
         "mode": "lines",
         "name": "Josh Allen",
         "type": "scatter",
         "x": [
          90.75,
          90.74,
          90.73,
          90.73,
          90.74,
          90.75,
          90.75,
          90.75,
          90.73,
          90.7,
          90.66,
          90.59,
          90.51,
          90.41,
          90.29,
          90.16,
          90.02,
          89.86,
          89.7,
          89.53,
          89.36,
          89.19
         ],
         "y": [
          30.01,
          30.02,
          30.02,
          30.01,
          30,
          29.99,
          29.97,
          29.94,
          29.91,
          29.88,
          29.85,
          29.81,
          29.78,
          29.76,
          29.74,
          29.72,
          29.72,
          29.71,
          29.71,
          29.7,
          29.69,
          29.68
         ]
        },
        {
         "mode": "lines",
         "name": "Taylor Rapp",
         "type": "scatter",
         "x": [
          78.69,
          78.61,
          78.56,
          78.55,
          78.56,
          78.55,
          78.53,
          78.51,
          78.48,
          78.45,
          78.4,
          78.34,
          78.27,
          78.19,
          78.11,
          78.02,
          77.94,
          77.86,
          77.79,
          77.74,
          77.68,
          77.64
         ],
         "y": [
          21.15,
          21.26,
          21.44,
          21.67,
          21.95,
          22.28,
          22.64,
          23.02,
          23.42,
          23.83,
          24.24,
          24.64,
          25.04,
          25.42,
          25.79,
          26.13,
          26.45,
          26.75,
          27.02,
          27.25,
          27.46,
          27.65
         ]
        },
        {
         "mode": "lines",
         "name": "Devin Singletary",
         "type": "scatter",
         "x": [
          88.17,
          87.99,
          87.8,
          87.59,
          87.37,
          87.13,
          86.88,
          86.61,
          86.34,
          86.05,
          85.75,
          85.45,
          85.14,
          84.84,
          84.53,
          84.22,
          83.92,
          83.63,
          83.36,
          83.1,
          82.85,
          82.63
         ],
         "y": [
          24.17,
          24.06,
          23.93,
          23.78,
          23.62,
          23.44,
          23.24,
          23.02,
          22.8,
          22.57,
          22.34,
          22.12,
          21.91,
          21.72,
          21.55,
          21.42,
          21.31,
          21.22,
          21.18,
          21.17,
          21.19,
          21.23
         ]
        },
        {
         "mode": "lines",
         "name": "Dawson Knox",
         "type": "scatter",
         "x": [
          76.54,
          76.17,
          75.82,
          75.52,
          75.24,
          74.99,
          74.76,
          74.55,
          74.36,
          74.19,
          74.03,
          73.88,
          73.75,
          73.63,
          73.52,
          73.42,
          73.32,
          73.23,
          73.16,
          73.1,
          73.05,
          73.01
         ],
         "y": [
          32.03,
          31.55,
          31.05,
          30.52,
          29.98,
          29.43,
          28.89,
          28.36,
          27.84,
          27.36,
          26.91,
          26.5,
          26.14,
          25.82,
          25.56,
          25.35,
          25.18,
          25.07,
          25,
          24.96,
          24.97,
          25.02
         ]
        },
        {
         "mode": "lines",
         "name": "Greg Gaines",
         "type": "scatter",
         "x": [
          87.28,
          87.3,
          87.32,
          87.33,
          87.32,
          87.3,
          87.26,
          87.2,
          87.13,
          87.05,
          86.96,
          86.86,
          86.76,
          86.65,
          86.55,
          86.44,
          86.33,
          86.23,
          86.12,
          86,
          85.88,
          85.76
         ],
         "y": [
          28.5,
          28.69,
          28.9,
          29.14,
          29.38,
          29.64,
          29.9,
          30.15,
          30.41,
          30.65,
          30.88,
          31.1,
          31.3,
          31.48,
          31.64,
          31.77,
          31.88,
          31.96,
          32.03,
          32.08,
          32.11,
          32.12
         ]
        },
        {
         "mode": "lines",
         "name": "Nick Scott",
         "type": "scatter",
         "x": [
          65.2,
          64.88,
          64.58,
          64.32,
          64.1,
          63.94,
          63.82,
          63.76,
          63.74,
          63.78,
          63.85,
          63.96,
          64.11,
          64.29,
          64.48,
          64.68,
          64.89,
          65.11,
          65.32,
          65.52,
          65.72,
          65.91
         ],
         "y": [
          20.33,
          20.33,
          20.34,
          20.39,
          20.45,
          20.55,
          20.67,
          20.82,
          21,
          21.19,
          21.41,
          21.64,
          21.87,
          22.12,
          22.36,
          22.61,
          22.84,
          23.07,
          23.29,
          23.51,
          23.7,
          23.89
         ]
        },
        {
         "mode": "lines",
         "name": "Ryan Bates",
         "type": "scatter",
         "x": [
          90.22,
          90.46,
          90.66,
          90.82,
          90.94,
          91.02,
          91.06,
          91.03,
          90.95,
          90.84,
          90.71,
          90.55,
          90.35,
          90.15,
          89.93,
          89.7,
          89.44,
          89.2,
          88.95,
          88.7,
          88.46,
          88.23
         ],
         "y": [
          32.08,
          31.95,
          31.8,
          31.65,
          31.49,
          31.34,
          31.19,
          31.07,
          30.97,
          30.88,
          30.81,
          30.76,
          30.74,
          30.72,
          30.72,
          30.73,
          30.73,
          30.75,
          30.79,
          30.81,
          30.84,
          30.87
         ]
        },
        {
         "mode": "lines",
         "name": "Gabe Davis",
         "type": "scatter",
         "x": [
          74.35,
          73.56,
          72.78,
          72,
          71.22,
          70.44,
          69.67,
          68.91,
          68.17,
          67.44,
          66.73,
          66.04,
          65.37,
          64.73,
          64.12,
          63.54,
          63,
          62.5,
          62.05,
          61.64,
          61.29,
          60.98
         ],
         "y": [
          7.14,
          7.01,
          6.86,
          6.72,
          6.58,
          6.44,
          6.32,
          6.21,
          6.1,
          6,
          5.91,
          5.83,
          5.75,
          5.68,
          5.61,
          5.55,
          5.5,
          5.47,
          5.44,
          5.43,
          5.43,
          5.44
         ]
        },
        {
         "mode": "lines",
         "name": "Jordan Fuller",
         "type": "scatter",
         "x": [
          68.08,
          68.07,
          68.09,
          68.16,
          68.27,
          68.41,
          68.6,
          68.83,
          69.1,
          69.4,
          69.72,
          70.06,
          70.41,
          70.77,
          71.13,
          71.49,
          71.84,
          72.19,
          72.53,
          72.85,
          73.16,
          73.45
         ],
         "y": [
          37.91,
          37.6,
          37.25,
          36.87,
          36.48,
          36.09,
          35.7,
          35.33,
          34.98,
          34.67,
          34.38,
          34.12,
          33.89,
          33.7,
          33.53,
          33.4,
          33.29,
          33.21,
          33.15,
          33.1,
          33.07,
          33.05
         ]
        },
        {
         "mode": "lines",
         "name": "Spencer Brown",
         "type": "scatter",
         "x": [
          91.96,
          92.13,
          92.26,
          92.35,
          92.41,
          92.44,
          92.43,
          92.41,
          92.38,
          92.33,
          92.27,
          92.21,
          92.14,
          92.09,
          92.05,
          92.03,
          92,
          91.96,
          91.92,
          91.87,
          91.8,
          91.72
         ],
         "y": [
          33.01,
          32.9,
          32.78,
          32.67,
          32.56,
          32.44,
          32.32,
          32.21,
          32.09,
          31.98,
          31.88,
          31.79,
          31.7,
          31.64,
          31.59,
          31.56,
          31.54,
          31.52,
          31.51,
          31.49,
          31.48,
          31.48
         ]
        },
        {
         "mode": "lines",
         "name": "Ernest Jones",
         "type": "scatter",
         "x": [
          76.42,
          76.4,
          76.42,
          76.49,
          76.59,
          76.71,
          76.85,
          77,
          77.16,
          77.32,
          77.48,
          77.62,
          77.76,
          77.88,
          77.99,
          78.09,
          78.17,
          78.25,
          78.31,
          78.37,
          78.41,
          78.45
         ],
         "y": [
          33.64,
          33.57,
          33.5,
          33.44,
          33.39,
          33.36,
          33.35,
          33.35,
          33.35,
          33.35,
          33.36,
          33.37,
          33.38,
          33.38,
          33.39,
          33.39,
          33.39,
          33.38,
          33.37,
          33.35,
          33.33,
          33.31
         ]
        },
        {
         "mode": "lines",
         "name": "football",
         "type": "scatter",
         "x": [
          85.0500030517578,
          83.1500015258789,
          81.7399978637695,
          80.1399993896484,
          79.2900009155273,
          78.2200012207031,
          78.120002746582,
          77.5800018310547,
          77.870002746582,
          77.629997253418,
          77.9100036621094,
          77.8099975585938,
          77.9800033569336,
          77.9400024414062,
          78.0800018310547,
          78.0599975585938,
          78.1699981689453,
          78.1600036621094,
          78.2300033569336,
          78.2300033569336,
          78.2200012207031,
          78.2900009155273
         ],
         "y": [
          33.810001373291,
          34.8300018310547,
          35.5900001525879,
          36.4500007629395,
          36.9300003051758,
          37.5299987792969,
          37.6100006103516,
          37.9199981689453,
          37.7799987792969,
          37.9199981689453,
          37.6199989318848,
          37.6800003051758,
          37.2799987792969,
          37.2999992370605,
          36.9500007629395,
          36.9500007629395,
          36.6500015258789,
          36.6500015258789,
          36.3899993896484,
          36.3899993896484,
          36.3899993896484,
          36.0699996948242
         ]
        }
       ],
       "layout": {
        "template": {
         "data": {
          "bar": [
           {
            "error_x": {
             "color": "#2a3f5f"
            },
            "error_y": {
             "color": "#2a3f5f"
            },
            "marker": {
             "line": {
              "color": "#E5ECF6",
              "width": 0.5
             },
             "pattern": {
              "fillmode": "overlay",
              "size": 10,
              "solidity": 0.2
             }
            },
            "type": "bar"
           }
          ],
          "barpolar": [
           {
            "marker": {
             "line": {
              "color": "#E5ECF6",
              "width": 0.5
             },
             "pattern": {
              "fillmode": "overlay",
              "size": 10,
              "solidity": 0.2
             }
            },
            "type": "barpolar"
           }
          ],
          "carpet": [
           {
            "aaxis": {
             "endlinecolor": "#2a3f5f",
             "gridcolor": "white",
             "linecolor": "white",
             "minorgridcolor": "white",
             "startlinecolor": "#2a3f5f"
            },
            "baxis": {
             "endlinecolor": "#2a3f5f",
             "gridcolor": "white",
             "linecolor": "white",
             "minorgridcolor": "white",
             "startlinecolor": "#2a3f5f"
            },
            "type": "carpet"
           }
          ],
          "choropleth": [
           {
            "colorbar": {
             "outlinewidth": 0,
             "ticks": ""
            },
            "type": "choropleth"
           }
          ],
          "contour": [
           {
            "colorbar": {
             "outlinewidth": 0,
             "ticks": ""
            },
            "colorscale": [
             [
              0,
              "#0d0887"
             ],
             [
              0.1111111111111111,
              "#46039f"
             ],
             [
              0.2222222222222222,
              "#7201a8"
             ],
             [
              0.3333333333333333,
              "#9c179e"
             ],
             [
              0.4444444444444444,
              "#bd3786"
             ],
             [
              0.5555555555555556,
              "#d8576b"
             ],
             [
              0.6666666666666666,
              "#ed7953"
             ],
             [
              0.7777777777777778,
              "#fb9f3a"
             ],
             [
              0.8888888888888888,
              "#fdca26"
             ],
             [
              1,
              "#f0f921"
             ]
            ],
            "type": "contour"
           }
          ],
          "contourcarpet": [
           {
            "colorbar": {
             "outlinewidth": 0,
             "ticks": ""
            },
            "type": "contourcarpet"
           }
          ],
          "heatmap": [
           {
            "colorbar": {
             "outlinewidth": 0,
             "ticks": ""
            },
            "colorscale": [
             [
              0,
              "#0d0887"
             ],
             [
              0.1111111111111111,
              "#46039f"
             ],
             [
              0.2222222222222222,
              "#7201a8"
             ],
             [
              0.3333333333333333,
              "#9c179e"
             ],
             [
              0.4444444444444444,
              "#bd3786"
             ],
             [
              0.5555555555555556,
              "#d8576b"
             ],
             [
              0.6666666666666666,
              "#ed7953"
             ],
             [
              0.7777777777777778,
              "#fb9f3a"
             ],
             [
              0.8888888888888888,
              "#fdca26"
             ],
             [
              1,
              "#f0f921"
             ]
            ],
            "type": "heatmap"
           }
          ],
          "heatmapgl": [
           {
            "colorbar": {
             "outlinewidth": 0,
             "ticks": ""
            },
            "colorscale": [
             [
              0,
              "#0d0887"
             ],
             [
              0.1111111111111111,
              "#46039f"
             ],
             [
              0.2222222222222222,
              "#7201a8"
             ],
             [
              0.3333333333333333,
              "#9c179e"
             ],
             [
              0.4444444444444444,
              "#bd3786"
             ],
             [
              0.5555555555555556,
              "#d8576b"
             ],
             [
              0.6666666666666666,
              "#ed7953"
             ],
             [
              0.7777777777777778,
              "#fb9f3a"
             ],
             [
              0.8888888888888888,
              "#fdca26"
             ],
             [
              1,
              "#f0f921"
             ]
            ],
            "type": "heatmapgl"
           }
          ],
          "histogram": [
           {
            "marker": {
             "pattern": {
              "fillmode": "overlay",
              "size": 10,
              "solidity": 0.2
             }
            },
            "type": "histogram"
           }
          ],
          "histogram2d": [
           {
            "colorbar": {
             "outlinewidth": 0,
             "ticks": ""
            },
            "colorscale": [
             [
              0,
              "#0d0887"
             ],
             [
              0.1111111111111111,
              "#46039f"
             ],
             [
              0.2222222222222222,
              "#7201a8"
             ],
             [
              0.3333333333333333,
              "#9c179e"
             ],
             [
              0.4444444444444444,
              "#bd3786"
             ],
             [
              0.5555555555555556,
              "#d8576b"
             ],
             [
              0.6666666666666666,
              "#ed7953"
             ],
             [
              0.7777777777777778,
              "#fb9f3a"
             ],
             [
              0.8888888888888888,
              "#fdca26"
             ],
             [
              1,
              "#f0f921"
             ]
            ],
            "type": "histogram2d"
           }
          ],
          "histogram2dcontour": [
           {
            "colorbar": {
             "outlinewidth": 0,
             "ticks": ""
            },
            "colorscale": [
             [
              0,
              "#0d0887"
             ],
             [
              0.1111111111111111,
              "#46039f"
             ],
             [
              0.2222222222222222,
              "#7201a8"
             ],
             [
              0.3333333333333333,
              "#9c179e"
             ],
             [
              0.4444444444444444,
              "#bd3786"
             ],
             [
              0.5555555555555556,
              "#d8576b"
             ],
             [
              0.6666666666666666,
              "#ed7953"
             ],
             [
              0.7777777777777778,
              "#fb9f3a"
             ],
             [
              0.8888888888888888,
              "#fdca26"
             ],
             [
              1,
              "#f0f921"
             ]
            ],
            "type": "histogram2dcontour"
           }
          ],
          "mesh3d": [
           {
            "colorbar": {
             "outlinewidth": 0,
             "ticks": ""
            },
            "type": "mesh3d"
           }
          ],
          "parcoords": [
           {
            "line": {
             "colorbar": {
              "outlinewidth": 0,
              "ticks": ""
             }
            },
            "type": "parcoords"
           }
          ],
          "pie": [
           {
            "automargin": true,
            "type": "pie"
           }
          ],
          "scatter": [
           {
            "fillpattern": {
             "fillmode": "overlay",
             "size": 10,
             "solidity": 0.2
            },
            "type": "scatter"
           }
          ],
          "scatter3d": [
           {
            "line": {
             "colorbar": {
              "outlinewidth": 0,
              "ticks": ""
             }
            },
            "marker": {
             "colorbar": {
              "outlinewidth": 0,
              "ticks": ""
             }
            },
            "type": "scatter3d"
           }
          ],
          "scattercarpet": [
           {
            "marker": {
             "colorbar": {
              "outlinewidth": 0,
              "ticks": ""
             }
            },
            "type": "scattercarpet"
           }
          ],
          "scattergeo": [
           {
            "marker": {
             "colorbar": {
              "outlinewidth": 0,
              "ticks": ""
             }
            },
            "type": "scattergeo"
           }
          ],
          "scattergl": [
           {
            "marker": {
             "colorbar": {
              "outlinewidth": 0,
              "ticks": ""
             }
            },
            "type": "scattergl"
           }
          ],
          "scattermapbox": [
           {
            "marker": {
             "colorbar": {
              "outlinewidth": 0,
              "ticks": ""
             }
            },
            "type": "scattermapbox"
           }
          ],
          "scatterpolar": [
           {
            "marker": {
             "colorbar": {
              "outlinewidth": 0,
              "ticks": ""
             }
            },
            "type": "scatterpolar"
           }
          ],
          "scatterpolargl": [
           {
            "marker": {
             "colorbar": {
              "outlinewidth": 0,
              "ticks": ""
             }
            },
            "type": "scatterpolargl"
           }
          ],
          "scatterternary": [
           {
            "marker": {
             "colorbar": {
              "outlinewidth": 0,
              "ticks": ""
             }
            },
            "type": "scatterternary"
           }
          ],
          "surface": [
           {
            "colorbar": {
             "outlinewidth": 0,
             "ticks": ""
            },
            "colorscale": [
             [
              0,
              "#0d0887"
             ],
             [
              0.1111111111111111,
              "#46039f"
             ],
             [
              0.2222222222222222,
              "#7201a8"
             ],
             [
              0.3333333333333333,
              "#9c179e"
             ],
             [
              0.4444444444444444,
              "#bd3786"
             ],
             [
              0.5555555555555556,
              "#d8576b"
             ],
             [
              0.6666666666666666,
              "#ed7953"
             ],
             [
              0.7777777777777778,
              "#fb9f3a"
             ],
             [
              0.8888888888888888,
              "#fdca26"
             ],
             [
              1,
              "#f0f921"
             ]
            ],
            "type": "surface"
           }
          ],
          "table": [
           {
            "cells": {
             "fill": {
              "color": "#EBF0F8"
             },
             "line": {
              "color": "white"
             }
            },
            "header": {
             "fill": {
              "color": "#C8D4E3"
             },
             "line": {
              "color": "white"
             }
            },
            "type": "table"
           }
          ]
         },
         "layout": {
          "annotationdefaults": {
           "arrowcolor": "#2a3f5f",
           "arrowhead": 0,
           "arrowwidth": 1
          },
          "autotypenumbers": "strict",
          "coloraxis": {
           "colorbar": {
            "outlinewidth": 0,
            "ticks": ""
           }
          },
          "colorscale": {
           "diverging": [
            [
             0,
             "#8e0152"
            ],
            [
             0.1,
             "#c51b7d"
            ],
            [
             0.2,
             "#de77ae"
            ],
            [
             0.3,
             "#f1b6da"
            ],
            [
             0.4,
             "#fde0ef"
            ],
            [
             0.5,
             "#f7f7f7"
            ],
            [
             0.6,
             "#e6f5d0"
            ],
            [
             0.7,
             "#b8e186"
            ],
            [
             0.8,
             "#7fbc41"
            ],
            [
             0.9,
             "#4d9221"
            ],
            [
             1,
             "#276419"
            ]
           ],
           "sequential": [
            [
             0,
             "#0d0887"
            ],
            [
             0.1111111111111111,
             "#46039f"
            ],
            [
             0.2222222222222222,
             "#7201a8"
            ],
            [
             0.3333333333333333,
             "#9c179e"
            ],
            [
             0.4444444444444444,
             "#bd3786"
            ],
            [
             0.5555555555555556,
             "#d8576b"
            ],
            [
             0.6666666666666666,
             "#ed7953"
            ],
            [
             0.7777777777777778,
             "#fb9f3a"
            ],
            [
             0.8888888888888888,
             "#fdca26"
            ],
            [
             1,
             "#f0f921"
            ]
           ],
           "sequentialminus": [
            [
             0,
             "#0d0887"
            ],
            [
             0.1111111111111111,
             "#46039f"
            ],
            [
             0.2222222222222222,
             "#7201a8"
            ],
            [
             0.3333333333333333,
             "#9c179e"
            ],
            [
             0.4444444444444444,
             "#bd3786"
            ],
            [
             0.5555555555555556,
             "#d8576b"
            ],
            [
             0.6666666666666666,
             "#ed7953"
            ],
            [
             0.7777777777777778,
             "#fb9f3a"
            ],
            [
             0.8888888888888888,
             "#fdca26"
            ],
            [
             1,
             "#f0f921"
            ]
           ]
          },
          "colorway": [
           "#636efa",
           "#EF553B",
           "#00cc96",
           "#ab63fa",
           "#FFA15A",
           "#19d3f3",
           "#FF6692",
           "#B6E880",
           "#FF97FF",
           "#FECB52"
          ],
          "font": {
           "color": "#2a3f5f"
          },
          "geo": {
           "bgcolor": "white",
           "lakecolor": "white",
           "landcolor": "#E5ECF6",
           "showlakes": true,
           "showland": true,
           "subunitcolor": "white"
          },
          "hoverlabel": {
           "align": "left"
          },
          "hovermode": "closest",
          "mapbox": {
           "style": "light"
          },
          "paper_bgcolor": "white",
          "plot_bgcolor": "#E5ECF6",
          "polar": {
           "angularaxis": {
            "gridcolor": "white",
            "linecolor": "white",
            "ticks": ""
           },
           "bgcolor": "#E5ECF6",
           "radialaxis": {
            "gridcolor": "white",
            "linecolor": "white",
            "ticks": ""
           }
          },
          "scene": {
           "xaxis": {
            "backgroundcolor": "#E5ECF6",
            "gridcolor": "white",
            "gridwidth": 2,
            "linecolor": "white",
            "showbackground": true,
            "ticks": "",
            "zerolinecolor": "white"
           },
           "yaxis": {
            "backgroundcolor": "#E5ECF6",
            "gridcolor": "white",
            "gridwidth": 2,
            "linecolor": "white",
            "showbackground": true,
            "ticks": "",
            "zerolinecolor": "white"
           },
           "zaxis": {
            "backgroundcolor": "#E5ECF6",
            "gridcolor": "white",
            "gridwidth": 2,
            "linecolor": "white",
            "showbackground": true,
            "ticks": "",
            "zerolinecolor": "white"
           }
          },
          "shapedefaults": {
           "line": {
            "color": "#2a3f5f"
           }
          },
          "ternary": {
           "aaxis": {
            "gridcolor": "white",
            "linecolor": "white",
            "ticks": ""
           },
           "baxis": {
            "gridcolor": "white",
            "linecolor": "white",
            "ticks": ""
           },
           "bgcolor": "#E5ECF6",
           "caxis": {
            "gridcolor": "white",
            "linecolor": "white",
            "ticks": ""
           }
          },
          "title": {
           "x": 0.05
          },
          "xaxis": {
           "automargin": true,
           "gridcolor": "white",
           "linecolor": "white",
           "ticks": "",
           "title": {
            "standoff": 15
           },
           "zerolinecolor": "white",
           "zerolinewidth": 2
          },
          "yaxis": {
           "automargin": true,
           "gridcolor": "white",
           "linecolor": "white",
           "ticks": "",
           "title": {
            "standoff": 15
           },
           "zerolinecolor": "white",
           "zerolinewidth": 2
          }
         }
        },
        "title": {
         "text": "Game 2022090800 Play 56 Player [35472, 38577, 41239, 42392, 42489, 42816, 43294, 43298, 43335, 44875, 44985, 46076, 47844, 47857, 47879, 47917, 48026, 48512, 52536, 52607, 53522, 53532]"
        },
        "xaxis": {
         "range": [
          0,
          120
         ]
        },
        "yaxis": {
         "range": [
          0,
          53.3
         ]
        }
       }
      }
     },
     "metadata": {},
     "output_type": "display_data"
    }
   ],
   "source": [
    "def plot_player(data:pd.DataFrame, gameId:int, playId:int, nflId:list, \n",
    "                plot_football=False, plot_all_players=False):\n",
    "    data_subset = data[(data['gameId'] == gameId) & (data['playId'] == playId)]\n",
    "    traces = []\n",
    "\n",
    "    if plot_all_players:\n",
    "        players = data_subset['nflId'].unique()\n",
    "        nflId = [i for i in players if i != 0]\n",
    "\n",
    "    for player in nflId:\n",
    "        player_data = data_subset[data_subset['nflId'] == player]\n",
    "        traces.append(go.Scatter(x=player_data['x'], y=player_data['y'], mode='lines', name=player_data['displayName'].iloc[0]))\n",
    "    \n",
    "\n",
    "    layout = go.Layout(title=f'Game {gameId} Play {playId} Player {nflId}')\n",
    "    fig = go.Figure(data=traces, layout=layout)\n",
    "    fig.update_layout(\n",
    "        xaxis=dict(\n",
    "            range=[0, 120]\n",
    "        ),\n",
    "        yaxis=dict(\n",
    "            range=[0, 53.3]\n",
    "        )\n",
    "    )\n",
    "    if plot_football:\n",
    "        football_data = data_subset[data_subset['displayName'] == 'football']\n",
    "        fig.add_trace(go.Scatter(x=football_data['x'], y=football_data['y'], mode='lines', name='football'))\n",
    "\n",
    "    fig.show()\n",
    "\n",
    "\n",
    "plot_player(total_data, gameId=2022090800, playId=56, nflId=[43294,43298,43335,46076], \n",
    "            plot_football=True, plot_all_players=True)"
   ]
  },
  {
   "cell_type": "code",
   "execution_count": null,
   "metadata": {},
   "outputs": [],
   "source": [
    "def plot_player_movement(data, gameId, playId, nflId, plot_football=False):\n",
    "    # Filter the data based on gameId, playId, and nflId\n",
    "    game_data = data[(total_data['gameId'] == gameId) & (data['playId'] == playId) & (data['nflId'] == nflId)]\n",
    "\n",
    "    # Scatter plot of player movement\n",
    "    plt.scatter(game_data['x'], game_data['y'])\n",
    "\n",
    "    # Plotting the field\n",
    "    ## Plotting the endzones\n",
    "    plt.axvline(x=10, color='red')\n",
    "    plt.axvline(x=110, color='blue')\n",
    "\n",
    "    # Plotting the yard lines\n",
    "    for i in [20, 30, 40, 50, 60, 70, 80, 90, 100]:\n",
    "        plt.axvline(x=i, color='black')\n",
    "\n",
    "    if plot_football:\n",
    "        # Plotting the football\n",
    "        football_data = game_data[game_data['displayName'] == 'football']\n",
    "        plt.scatter(football_data['x'], football_data['y'], color='brown')\n",
    "\n",
    "    # Setting the x and y axis limits\n",
    "    plt.xlim(0, 120)\n",
    "    plt.ylim(0, 53.3)\n",
    "\n",
    "    # Display the plot\n",
    "    plt.show()"
   ]
  },
  {
   "cell_type": "code",
   "execution_count": null,
   "metadata": {},
   "outputs": [
    {
     "data": {
      "image/png": "[encoded data removed]",
      "text/plain": [
       "<Figure size 640x480 with 1 Axes>"
      ]
     },
     "metadata": {},
     "output_type": "display_data"
    }
   ],
   "source": [
    "plot_player_movement(total_data, gameId=2022090800, playId=56, nflId=43294, plot_football=True)"
   ]
  },
  {
   "cell_type": "markdown",
   "metadata": {},
   "source": []
  },
  {
   "cell_type": "markdown",
   "metadata": {},
   "source": [
    "# Notes\n",
    "## field position\n",
    "- we should add in starting field position that gives us the amount of yardage on both sides of the football\n",
    "\n",
    "## traffic\n",
    "- adding something to designate the nearby traffic of each player\n",
    "    it may signify something like difficulty in getting to the ball carrier "
   ]
  },
  {
   "cell_type": "code",
   "execution_count": null,
   "metadata": {},
   "outputs": [],
   "source": [
    "# if a player gets an assist there will not be a tackle\n",
    "# for any player on that team, so you can say\n",
    "# any tackle is a solo tackle\n",
    "\n"
   ]
  },
  {
   "cell_type": "code",
   "execution_count": null,
   "metadata": {},
   "outputs": [
    {
     "data": {
      "image/png": "[encoded data removed]",
      "text/plain": [
       "<Figure size 640x480 with 2 Axes>"
      ]
     },
     "metadata": {},
     "output_type": "display_data"
    }
   ],
   "source": [
    "# we should probably add something that takes the data as it is and plots it \n",
    "# as it would be on the football field\n",
    "## this means the x should be the same way that the football yardage is\n",
    "### this brings up the question do we train with relative coordinates \n",
    "### or do we train with absolute coordinates\n",
    "\n",
    "## \n",
    "\n",
    "play_one = week1_data[(football_week1['gameId'] == unique_plays_list[0][0]) & (football_week1['playId'] == unique_plays_list[0][1])]\n",
    "\n",
    "x = play_one['x']\n",
    "y = play_one['y']\n",
    "frame_id = play_one['frameId']\n",
    "\n",
    "plt.scatter(x, y, c=frame_id, cmap='viridis')\n",
    "plt.xlim(0, 120)\n",
    "plt.ylim(0, 53.3)\n",
    "plt.colorbar()\n",
    "plt.show()"
   ]
  },
  {
   "cell_type": "markdown",
   "metadata": {},
   "source": [
    "# Calculating Tackle Net Force"
   ]
  },
  {
   "cell_type": "code",
   "execution_count": null,
   "metadata": {},
   "outputs": [],
   "source": [
    "# this doesn't work but this method is faster than what i will do\n",
    "\n",
    "def calc_fb_distance(data):\n",
    "    data['football_x'] = data.groupby(['gameId', 'playId', 'frameId']).apply(\n",
    "        lambda group: group.loc[group['displayName'] == 'football', 'x']\n",
    "    ).reset_index(drop=True) \n",
    "    \n",
    "    data['football_y'] = data.groupby(['gameId', 'playId', 'frameId']).apply(\n",
    "        lambda group: group.loc[group['displayName'] == 'football', 'y']\n",
    "    ).reset_index(drop=True)  \n",
    "\n",
    "    data['fb_distance'] = data.groupby(['gameId', 'playId', 'frameId']).apply(\n",
    "        lambda group: np.sqrt((group['x'] - group['football_x'])**2 + (group['y'] - group['football_y'])**2)\n",
    "    ).reset_index(drop=True)\n",
    "\n",
    "    return data\n"
   ]
  },
  {
   "cell_type": "code",
   "execution_count": null,
   "metadata": {},
   "outputs": [],
   "source": []
  }
 ],
 "metadata": {
  "kernelspec": {
   "display_name": "Python 3",
   "language": "python",
   "name": "python3"
  },
  "language_info": {
   "codemirror_mode": {
    "name": "ipython",
    "version": 3
   },
   "file_extension": ".py",
   "mimetype": "text/x-python",
   "name": "python",
   "nbconvert_exporter": "python",
   "pygments_lexer": "ipython3",
   "version": "3.10.11"
  }
 },
 "nbformat": 4,
 "nbformat_minor": 2
}
